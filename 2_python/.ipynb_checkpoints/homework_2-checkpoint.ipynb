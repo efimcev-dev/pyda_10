{
 "cells": [
  {
   "cell_type": "markdown",
   "metadata": {},
   "source": [
    "**Задание 1.** Даны 2 строки: long_phrase и short_phrase. Напишите код, который проверяет действительно ли длинная фраза long_phrase длиннее короткой short_phrase. И выводит True или False в зависимости от результата сравнения."
   ]
  },
  {
   "cell_type": "code",
   "execution_count": 1,
   "metadata": {},
   "outputs": [],
   "source": [
    "long_phrase = 'Насколько проще было бы писать программы, если бы не заказчики'\n",
    "short_phrase = '640Кб должно хватить для любых задач. Билл Гейтс (по легенде)'"
   ]
  },
  {
   "cell_type": "code",
   "execution_count": 2,
   "metadata": {},
   "outputs": [
    {
     "data": {
      "text/plain": [
       "True"
      ]
     },
     "execution_count": 2,
     "metadata": {},
     "output_type": "execute_result"
    }
   ],
   "source": [
    "len(long_phrase) > len(short_phrase)"
   ]
  },
  {
   "cell_type": "markdown",
   "metadata": {},
   "source": [
    "**Задание 2.** Дано значение объема файла в байтах (в мегабайте 2^20 байт). Напишите перевод этого значения в мегабайты в формате: \"Объем файла равен 213.68Mb\"."
   ]
  },
  {
   "cell_type": "code",
   "execution_count": 15,
   "metadata": {},
   "outputs": [
    {
     "name": "stdout",
     "output_type": "stream",
     "text": [
      "Введите значение объема файла в байтах1000000\n",
      "Объем файла равен 0.95367431640625 Mb\n"
     ]
    }
   ],
   "source": [
    "volume = int(input('Введите значение объема файла в байтах'))\n",
    "print('Объем файла равен', volume / 1024 / 1024,'Mb')"
   ]
  },
  {
   "cell_type": "markdown",
   "metadata": {},
   "source": [
    "**Задание 3.** Разработать приложение для определения знака зодиака по дате рождения. Пример:\n",
    "\n",
    "Введите месяц: март\n",
    "\n",
    "Введите число: 6\n",
    "\n",
    "Вывод: Рыбы"
   ]
  },
  {
   "cell_type": "code",
   "execution_count": 33,
   "metadata": {},
   "outputs": [
    {
     "name": "stdout",
     "output_type": "stream",
     "text": [
      "Введите месяц: июнь\n",
      "Введите день: 17\n",
      "Близнецы\n"
     ]
    }
   ],
   "source": [
    "month = input('Введите месяц: ')\n",
    "day = int(input('Введите день: '))\n",
    "\n",
    "if (month == ('декабрь') and (day >= 22 and day <= 31)) or (month == ('январь') and (day >= 1 and day <= 19)): \n",
    "    print('Козерог')\n",
    "if (month == ('январь') and (day >= 20 and day <= 31)) or (month == ('февраль') and (day >= 1 and day <= 19)): \n",
    "    print('Водолей')\n",
    "if (month == ('февраль') and (day >= 20 and day <= 31)) or (month == ('март') and (day >= 1 and day <= 21)): \n",
    "    print('Рыбы')\n",
    "if (month == ('март') and (day >= 21 and day <= 31)) or (month == ('апрель') and (day >= 1 and day <= 21)): \n",
    "    print('Овен')\n",
    "if (month == ('апрель') and (day >= 22 and day <= 31)) or (month == ('май') and (day >= 1 and day <= 21)): \n",
    "    print('Телец')\n",
    "if (month == ('май') and (day >= 22 and day <= 31)) or (month == ('июнь') and (day >= 1 and day <= 21)): \n",
    "    print('Близнецы')\n",
    "if (month == ('июнь') and (day >= 22 and day <= 31)) or (month == ('июль') and (day >= 1 and day <= 21)): \n",
    "    print('Рак')\n",
    "if (month == ('июля') and (day >= 22 and day <= 31)) or (month == ('август') and (day >= 1 and day <= 21)): \n",
    "    print('Лев')\n",
    "if (month == ('август') and (day >= 22 and day <= 31)) or (month == ('сентябрь') and (day >= 1 and day <= 21)): \n",
    "    print('Дева')\n",
    "if (month == ('сентябрь') and (day >= 21 and day <= 31)) or (month == ('октябрь') and (day >= 1 and day <= 22)): \n",
    "    print('Весы')\n",
    "if (month == ('октябрь') and (day >= 22 and day <= 31)) or (month == ('ноябрь') and (day >= 1 and day <= 20)): \n",
    "    print('Скорпион')\n",
    "if (month == ('ноябрь') and (day >= 21 and day <= 31)) or (month == ('декабрь') and (day >= 1 and day <= 21)): \n",
    "    print('Стрелец')\n",
    "    "
   ]
  },
  {
   "cell_type": "markdown",
   "metadata": {},
   "source": [
    "Задание 4. Нужно разработать приложение для финансового планирования. Приложение учитывает сколько уходит на ипотеку, \"на жизнь\" и сколько нужно отложить на пенсию. Пользователь вводит:\n",
    "\n",
    "заработанную плату в месяц.\n",
    "сколько процентов от ЗП уходит на ипотеку.\n",
    "сколько процентов от ЗП уходит \"на жизнь\".\n",
    "сколько раз приходит премия в год.\n",
    "Остальная часть заработанной платы откладывается на пенсию.\n",
    "\n",
    "Также пользователю приходит премия в размере зарплаты, от которой половина уходит на отпуск, а вторая половина откладывается.\n",
    "\n",
    "Программа должна учитывать сколько премий было в год.\n",
    "\n",
    "Нужно вывести сколько денег тратит пользователь на ипотеку и сколько он накопит за год.\n",
    "\n",
    "Пример:\n",
    "\n",
    "Введите заработанную плату в месяц: 100000\n",
    "\n",
    "Введите сколько процентов уходит на ипотеку: 30\n",
    "\n",
    "Введите сколько процентов уходит на жизнь: 50\n",
    "\n",
    "Введите количество премий за год: 2\n",
    "\n",
    "Вывод: На ипотеку было потрачено: 360000 рублей Было накоплено: 340000 рублей"
   ]
  },
  {
   "cell_type": "code",
   "execution_count": 39,
   "metadata": {},
   "outputs": [
    {
     "name": "stdout",
     "output_type": "stream",
     "text": [
      "Введите заработанную плату в месяц: 10000\n",
      "Введите сколько процентов уходит на ипотеку: 30\n",
      "Введите сколько процентов уходит на жизнь: 20\n",
      "Введите количество премий за год: 3\n",
      "На ипотеку было потрачено:  36000.0 рублей\n",
      "Было накоплено:  75000.0 рублей\n"
     ]
    }
   ],
   "source": [
    "salary = int(input('Введите заработанную плату в месяц: '))\n",
    "credit = int(input('Введите сколько процентов уходит на ипотеку: '))\n",
    "live = int(input('Введите сколько процентов уходит на жизнь: '))\n",
    "bonus = int(input('Введите количество премий за год: '))\n",
    "print('На ипотеку было потрачено: ', 12* (salary * credit / 100),'рублей')\n",
    "print('Было накоплено: ', 12 * (salary - ((salary * credit / 100) + (salary * live / 100))) + (salary / 2) * bonus,'рублей')"
   ]
  },
  {
   "cell_type": "code",
   "execution_count": null,
   "metadata": {},
   "outputs": [],
   "source": []
  }
 ],
 "metadata": {
  "kernelspec": {
   "display_name": "Python 3",
   "language": "python",
   "name": "python3"
  },
  "language_info": {
   "codemirror_mode": {
    "name": "ipython",
    "version": 3
   },
   "file_extension": ".py",
   "mimetype": "text/x-python",
   "name": "python",
   "nbconvert_exporter": "python",
   "pygments_lexer": "ipython3",
   "version": "3.7.6"
  }
 },
 "nbformat": 4,
 "nbformat_minor": 4
}
